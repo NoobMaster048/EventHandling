{
  "nbformat": 4,
  "nbformat_minor": 0,
  "metadata": {
    "colab": {
      "name": "Affliate System.ipynb",
      "provenance": [],
      "collapsed_sections": [],
      "mount_file_id": "1IFIfGCgasd8G4MECnDfhf8HyVtEWUP2b",
      "authorship_tag": "ABX9TyNW2vKyXAlnuX7/tDPiwb5n"
    },
    "kernelspec": {
      "name": "python3",
      "display_name": "Python 3"
    },
    "language_info": {
      "name": "python"
    }
  },
  "cells": [
    {
      "cell_type": "markdown",
      "metadata": {
        "id": "UhjUWuRkbYjZ"
      },
      "source": [
        "Here we imported  our libraries which includes keras for ML numpy for data manipulation and math for performing mathematics functions.\n",
        "\n",
        "\n",
        "Then we have a class Agent which is our training model.\n",
        "\n",
        "\n",
        "We loaded the dataset from respective files using numpy \n",
        "\n",
        "then filtered out the dataset using numpy \n",
        "\n",
        "then sent the training data (40) to our training agent."
      ]
    },
    {
      "cell_type": "code",
      "metadata": {
        "colab": {
          "base_uri": "https://localhost:8080/"
        },
        "id": "yyUdQItqv3MW",
        "outputId": "4f50c524-ebb3-4099-bcfc-370eebb88f9d"
      },
      "source": [
        "import os\n",
        "import re\n",
        "\n",
        "\n",
        "listfiles = os.listdir(\"./files\")\n",
        "\n",
        "\n",
        "\n",
        "def getWords(data):\n",
        "  noOfWords = input(\"Enter the numbers of words of you want to search:\")\n",
        "  if(noOfWords.isalpha()):\n",
        "    print(\"You have entered a non-digit input.\")\n",
        "    getWords()\n",
        "  else:\n",
        "    wordToSearch  = dict()\n",
        "    word = \"\"\n",
        "    for i in range(int(noOfWords)):\n",
        "      word = input(\"Enter\" + str(i+1) +\" Word :\")\n",
        "      word = re.sub('[^A-Za-z0-9]+', '', word)\n",
        "      wordToSearch[word] = 0\n",
        "    print(wordToSearch)\n",
        "\n",
        "    for words in range(len(wordToSearch)):\n",
        "      sterm = tuple(wordToSearch.items())[words][0]\n",
        "      wordToSearch[sterm] = data.count(sterm)\n",
        "    print(wordToSearch)\n",
        "\n",
        "    unique = []\n",
        "    for word in data:\n",
        "        if word not in unique:\n",
        "            unique.append(word)\n",
        "\n",
        "    \n",
        "    print(\"Total Unique words in file \"+ str(len(unique)))\n",
        "    for words in range(len(wordToSearch)):\n",
        "      sterm = tuple(wordToSearch.items())[words][0]\n",
        "      print(\"Keyword \"+ sterm + \" is mentioned \"+ str(wordToSearch[sterm]) + \"( \"+ \n",
        "            str(float(wordToSearch[sterm])/len(unique))+\" % of the total Text )\")\n",
        "      wordToSearch[sterm] = data.count(sterm)\n",
        "\n",
        "\n",
        "\n",
        "\n",
        "\n",
        "\n",
        "\n",
        "\n",
        "def chooseFile():\n",
        "  filechose=\"\"\n",
        "  print(\"Select the files below\")\n",
        "  length = len(listfiles)\n",
        "  for file in range(length):\n",
        "    var = file+1\n",
        "    print(str(var)+\".  \"+listfiles[file])\n",
        "  choice = input(\"Enter the file number :\")\n",
        "  if(choice.isalpha() and int(choice)>length):\n",
        "    print(\"Entered the wrong file number\")\n",
        "    chooseFile()\n",
        "  else:\n",
        "      filechose = listfiles[int(choice)-1]\n",
        "\n",
        "  print(\"Your Selected file :\"+filechose)\n",
        "  file = open(\"./files/\"+filechose, \"rt\")\n",
        "  data = file.read()\n",
        "  words = data.split()\n",
        "  words = [word.strip('.,!;()[]-_') for word in words]\n",
        "  words = [word.replace(\"'s\", '') for word in words]\n",
        "  print('Number of words in Selected files file :', len(words))\n",
        "  getWords(words)\n",
        "  \n",
        "chooseFile()\n",
        "\n",
        "\n"
      ],
      "execution_count": 82,
      "outputs": [
        {
          "output_type": "stream",
          "text": [
            "Select the files below\n",
            "1.  .ipynb_checkpoints\n",
            "2.  health.txt\n",
            "3.  technology.txt\n",
            "Enter the file number :2\n",
            "Your Selected file :health.txt\n",
            "Number of words in Selected files file : 427\n",
            "Enter the numbers of words of you want to search:2\n",
            "Enter1 Word :for\n",
            "Enter2 Word :is\n",
            "{'for': 0, 'is': 0}\n",
            "{'for': 6, 'is': 3}\n",
            "Total Unique words in file 220\n",
            "Keyword for is mentioned 6( 0.02727272727272727 % of the total Text\n",
            "Keyword is is mentioned 3( 0.013636363636363636 % of the total Text\n"
          ],
          "name": "stdout"
        }
      ]
    },
    {
      "cell_type": "markdown",
      "metadata": {
        "id": "n9wqGZLubWpd"
      },
      "source": [
        ""
      ]
    },
    {
      "cell_type": "code",
      "metadata": {
        "id": "XEVWpGUa1Lbb"
      },
      "source": [
        ""
      ],
      "execution_count": null,
      "outputs": []
    },
    {
      "cell_type": "code",
      "metadata": {
        "id": "a-IRbpNI1HIG"
      },
      "source": [
        ""
      ],
      "execution_count": null,
      "outputs": []
    },
    {
      "cell_type": "code",
      "metadata": {
        "id": "INLG1SuQ0iaB"
      },
      "source": [
        ""
      ],
      "execution_count": null,
      "outputs": []
    },
    {
      "cell_type": "markdown",
      "metadata": {
        "id": "HkS1LfQyxdlp"
      },
      "source": [
        "# New Section"
      ]
    }
  ]
}